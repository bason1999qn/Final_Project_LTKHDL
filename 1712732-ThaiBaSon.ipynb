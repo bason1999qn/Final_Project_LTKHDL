{
 "cells": [
  {
   "cell_type": "markdown",
   "metadata": {},
   "source": [
    "\n",
    "<font size=\"5\">**<center> ĐỒ ÁN CUỐI KỲ </center>** </font>\n",
    "\n",
    "<font size=\"4\">**<center> Lập trình cho khoa học dữ liệu </center>** </font>\n",
    "\n",
    "> Họ tên: Thái Bá Sơn\n",
    "\n",
    "> MSSV: 1712732"
   ]
  },
  {
   "cell_type": "markdown",
   "metadata": {},
   "source": [
    "# I/ Dữ liệu"
   ]
  },
  {
   "cell_type": "markdown",
   "metadata": {},
   "source": [
    "### Thông tin về dữ liệu:\n"
   ]
  },
  {
   "cell_type": "markdown",
   "metadata": {},
   "source": [
    "Dữ liệu này cung cấp thành tích học tập và các thông tin liên quan của học sinh trung học ở 2 trường của Bồ Đào Nha. Cụ thể các thuộc tính dữ liệu bao gồm điểm tổng kết, yếu tố tác động như tình trạng, hoàn cảnh gia đình... được thu thập bằng cách sử dụng thông tin mà nhà trường cung cấp và phiếu khảo sát từ các học sinh.  \n",
    "\n",
    "**Nguồn:** dữ liệu được lấy [tại đây](https://www.kaggle.com/dipam7/student-grade-prediction)"
   ]
  },
  {
   "cell_type": "markdown",
   "metadata": {},
   "source": [
    "# II/ Khám phá dữ liệu:"
   ]
  },
  {
   "cell_type": "markdown",
   "metadata": {},
   "source": [
    "### Import"
   ]
  },
  {
   "cell_type": "code",
   "execution_count": 1,
   "metadata": {},
   "outputs": [],
   "source": [
    "%matplotlib inline\n",
    "import matplotlib.pyplot as plt\n",
    "import matplotlib.colors\n",
    "import seaborn as sns\n",
    "import pandas as pd\n",
    "import numpy as np\n",
    "from sklearn.model_selection import train_test_split\n",
    "from sklearn.linear_model import LinearRegression"
   ]
  },
  {
   "cell_type": "markdown",
   "metadata": {},
   "source": [
    "### Đọc dữ liệu từ file csv vào dataframe"
   ]
  },
  {
   "cell_type": "code",
   "execution_count": 2,
   "metadata": {},
   "outputs": [
    {
     "data": {
      "text/html": [
       "<div>\n",
       "<style scoped>\n",
       "    .dataframe tbody tr th:only-of-type {\n",
       "        vertical-align: middle;\n",
       "    }\n",
       "\n",
       "    .dataframe tbody tr th {\n",
       "        vertical-align: top;\n",
       "    }\n",
       "\n",
       "    .dataframe thead th {\n",
       "        text-align: right;\n",
       "    }\n",
       "</style>\n",
       "<table border=\"1\" class=\"dataframe\">\n",
       "  <thead>\n",
       "    <tr style=\"text-align: right;\">\n",
       "      <th></th>\n",
       "      <th>school</th>\n",
       "      <th>sex</th>\n",
       "      <th>age</th>\n",
       "      <th>address</th>\n",
       "      <th>famsize</th>\n",
       "      <th>Pstatus</th>\n",
       "      <th>Medu</th>\n",
       "      <th>Fedu</th>\n",
       "      <th>Mjob</th>\n",
       "      <th>Fjob</th>\n",
       "      <th>...</th>\n",
       "      <th>famrel</th>\n",
       "      <th>freetime</th>\n",
       "      <th>goout</th>\n",
       "      <th>Dalc</th>\n",
       "      <th>Walc</th>\n",
       "      <th>health</th>\n",
       "      <th>absences</th>\n",
       "      <th>G1</th>\n",
       "      <th>G2</th>\n",
       "      <th>G3</th>\n",
       "    </tr>\n",
       "  </thead>\n",
       "  <tbody>\n",
       "    <tr>\n",
       "      <th>0</th>\n",
       "      <td>GP</td>\n",
       "      <td>F</td>\n",
       "      <td>18</td>\n",
       "      <td>U</td>\n",
       "      <td>GT3</td>\n",
       "      <td>A</td>\n",
       "      <td>4</td>\n",
       "      <td>4</td>\n",
       "      <td>at_home</td>\n",
       "      <td>teacher</td>\n",
       "      <td>...</td>\n",
       "      <td>4</td>\n",
       "      <td>3</td>\n",
       "      <td>4</td>\n",
       "      <td>1</td>\n",
       "      <td>1</td>\n",
       "      <td>3</td>\n",
       "      <td>6</td>\n",
       "      <td>5</td>\n",
       "      <td>6</td>\n",
       "      <td>6</td>\n",
       "    </tr>\n",
       "    <tr>\n",
       "      <th>1</th>\n",
       "      <td>GP</td>\n",
       "      <td>F</td>\n",
       "      <td>17</td>\n",
       "      <td>U</td>\n",
       "      <td>GT3</td>\n",
       "      <td>T</td>\n",
       "      <td>1</td>\n",
       "      <td>1</td>\n",
       "      <td>at_home</td>\n",
       "      <td>other</td>\n",
       "      <td>...</td>\n",
       "      <td>5</td>\n",
       "      <td>3</td>\n",
       "      <td>3</td>\n",
       "      <td>1</td>\n",
       "      <td>1</td>\n",
       "      <td>3</td>\n",
       "      <td>4</td>\n",
       "      <td>5</td>\n",
       "      <td>5</td>\n",
       "      <td>6</td>\n",
       "    </tr>\n",
       "    <tr>\n",
       "      <th>2</th>\n",
       "      <td>GP</td>\n",
       "      <td>F</td>\n",
       "      <td>15</td>\n",
       "      <td>U</td>\n",
       "      <td>LE3</td>\n",
       "      <td>T</td>\n",
       "      <td>1</td>\n",
       "      <td>1</td>\n",
       "      <td>at_home</td>\n",
       "      <td>other</td>\n",
       "      <td>...</td>\n",
       "      <td>4</td>\n",
       "      <td>3</td>\n",
       "      <td>2</td>\n",
       "      <td>2</td>\n",
       "      <td>3</td>\n",
       "      <td>3</td>\n",
       "      <td>10</td>\n",
       "      <td>7</td>\n",
       "      <td>8</td>\n",
       "      <td>10</td>\n",
       "    </tr>\n",
       "    <tr>\n",
       "      <th>3</th>\n",
       "      <td>GP</td>\n",
       "      <td>F</td>\n",
       "      <td>15</td>\n",
       "      <td>U</td>\n",
       "      <td>GT3</td>\n",
       "      <td>T</td>\n",
       "      <td>4</td>\n",
       "      <td>2</td>\n",
       "      <td>health</td>\n",
       "      <td>services</td>\n",
       "      <td>...</td>\n",
       "      <td>3</td>\n",
       "      <td>2</td>\n",
       "      <td>2</td>\n",
       "      <td>1</td>\n",
       "      <td>1</td>\n",
       "      <td>5</td>\n",
       "      <td>2</td>\n",
       "      <td>15</td>\n",
       "      <td>14</td>\n",
       "      <td>15</td>\n",
       "    </tr>\n",
       "    <tr>\n",
       "      <th>4</th>\n",
       "      <td>GP</td>\n",
       "      <td>F</td>\n",
       "      <td>16</td>\n",
       "      <td>U</td>\n",
       "      <td>GT3</td>\n",
       "      <td>T</td>\n",
       "      <td>3</td>\n",
       "      <td>3</td>\n",
       "      <td>other</td>\n",
       "      <td>other</td>\n",
       "      <td>...</td>\n",
       "      <td>4</td>\n",
       "      <td>3</td>\n",
       "      <td>2</td>\n",
       "      <td>1</td>\n",
       "      <td>2</td>\n",
       "      <td>5</td>\n",
       "      <td>4</td>\n",
       "      <td>6</td>\n",
       "      <td>10</td>\n",
       "      <td>10</td>\n",
       "    </tr>\n",
       "  </tbody>\n",
       "</table>\n",
       "<p>5 rows × 33 columns</p>\n",
       "</div>"
      ],
      "text/plain": [
       "  school sex  age address famsize Pstatus  Medu  Fedu     Mjob      Fjob  ...  \\\n",
       "0     GP   F   18       U     GT3       A     4     4  at_home   teacher  ...   \n",
       "1     GP   F   17       U     GT3       T     1     1  at_home     other  ...   \n",
       "2     GP   F   15       U     LE3       T     1     1  at_home     other  ...   \n",
       "3     GP   F   15       U     GT3       T     4     2   health  services  ...   \n",
       "4     GP   F   16       U     GT3       T     3     3    other     other  ...   \n",
       "\n",
       "  famrel freetime  goout  Dalc  Walc health absences  G1  G2  G3  \n",
       "0      4        3      4     1     1      3        6   5   6   6  \n",
       "1      5        3      3     1     1      3        4   5   5   6  \n",
       "2      4        3      2     2     3      3       10   7   8  10  \n",
       "3      3        2      2     1     1      5        2  15  14  15  \n",
       "4      4        3      2     1     2      5        4   6  10  10  \n",
       "\n",
       "[5 rows x 33 columns]"
      ]
     },
     "execution_count": 2,
     "metadata": {},
     "output_type": "execute_result"
    }
   ],
   "source": [
    "df_s = pd.read_csv('datasets_student_mat.csv')\n",
    "df_s.head()"
   ]
  },
  {
   "cell_type": "markdown",
   "metadata": {},
   "source": [
    "### Thông tin thuộc tính:"
   ]
  },
  {
   "cell_type": "code",
   "execution_count": 3,
   "metadata": {},
   "outputs": [
    {
     "name": "stdout",
     "output_type": "stream",
     "text": [
      "Dữ liệu có 395 dòng, 33 cột.\n"
     ]
    }
   ],
   "source": [
    "num_rows, num_cols = df_s.shape\n",
    "print(\"Dữ liệu có {} dòng, {} cột.\".format(num_rows, num_cols))"
   ]
  },
  {
   "cell_type": "markdown",
   "metadata": {},
   "source": [
    "Thông tin thuộc tính:\n",
    "- **school**: Trường mà học sinh đang theo học (2 trường: 'GP' - Gabriel Pereira hoặc 'MS' - Mousinho da Silveira).\n",
    "- **sex**: giới tính của học sinh (nhị phân: 'F' - nữ hoặc 'M' - nam).\n",
    "- **age**: tuổi của học sinh (số: từ 15 đến 22).\n",
    "- **address**: loại địa chỉ nhà của sinh viên (nhị phân: 'U' - thành thị hoặc 'R' - nông thôn).\n",
    "- **famsize**: quy mô gia đình (nhị phân: 'LE3' - nhỏ hơn hoặc bằng 3 hoặc 'GT3' - lớn hơn 3).\n",
    "- **Pstatus**: tình trạng chung sống của cha mẹ (nhị phân: 'T' - sống chung hoặc 'A' - xa nhau).\n",
    "- **Medu**: giáo dục của mẹ (số: 0 - không, 1 - giáo dục tiểu học (lớp 4), 2 - lớp 5 đến lớp 9, 3 - giáo dục trung học hoặc 4 - giáo dục đại học).\n",
    "- **Fedu**: trình độ học vấn của bố (số: 0 - không, 1 - giáo dục tiểu học (lớp 4), 2 - lớp 5-9, 3 - giáo dục trung học hoặc 4 - giáo dục đại học).\n",
    "- **Mjob**: công việc của mẹ (danh nghĩa: 'giáo viên', 'liên quan đến chăm sóc sức khỏe', 'dịch vụ dân sự' (ví dụ: hành chính hoặc cảnh sát), 'at_home' hoặc 'other').\n",
    "- **Fjob**: công việc của bố (danh nghĩa: 'giáo viên', 'y tế' liên quan đến chăm sóc, 'dịch vụ dân sự' (ví dụ: hành chính hoặc cảnh sát), 'at_home' hoặc 'other').\n",
    "- **reason**: lý do để chọn trường này (danh nghĩa: gần 'nhà', trường 'danh tiếng', ưu tiên 'khóa học' hoặc 'trường khác').\n",
    "- **guardian**: người giám hộ của học sinh (danh nghĩa: 'mẹ', 'bố' hoặc 'người khác').\n",
    "- **traveltime**: thời gian di chuyển từ nhà đến trường (số: 1 - 1 giờ).\n",
    "- **studytime**: thời gian học hàng tuần (số: 1 - 10 giờ).\n",
    "- **failures**: số lần bị phạt (phạm lỗi) ở lớp trước đây (số: n nếu 1 <= n <3, khác 4).\n",
    "- **schoolsup**: hỗ trợ giáo dục bổ sung từ nhà trường (nhị phân: có hoặc không).\n",
    "- **famsup**: hỗ trợ giáo dục từ gia đình (nhị phân: có hoặc không).\n",
    "- **paid**:  Tham gia các lớp học thêm có tính phí (Toán hoặc tiếng Bồ Đào Nha) (nhị phân: có hoặc không)\n",
    "- **nursery**: Đã học qua mẫu giáo hay chưa (nhị phân: 'yes' hoặc 'no').\n",
    "- **higher**: muốn tiếp tục học lên cao hơn (nhị phân: 'yes' hoặc 'no').\n",
    "- **internet**: Nhà có internet hay chưa (nhị phân: 'yes' hoặc 'no').\n",
    "- **activities**: Tham gia hoạt động ngoại khóa (nhị phân: 'yes' hoặc 'no').\n",
    "- **romantic**: Đang trong mối quan hệ? yêu đương? (nhị phân: 'yes' hoặc 'no').\n",
    "- **famrel**: Mức độ hạnh phúc của gia đình (số: từ 1 - rất thấp đến 5 - rất cao).\n",
    "- **freetime**: thời gian rảnh sau giờ học (số: từ 1 - rất thấp đến 5 - rất cao).\n",
    "- **goout**: Có đi chơi với bạn bè (số: từ 1 - rất ít đến 5 - rất nhiều).\n",
    "- **Dalc**: Mức tiêu thụ rượu trong ngày học (số: từ 1 - rất thấp đến 5 - rất cao).\n",
    "- **Walc**: mức tiêu thụ rượu vào cuối tuần (số: từ 1 - rất thấp đến 5 - rất cao).\n",
    "- **health**: tình trạng sức khỏe hiện tại (số: từ 1 - rất tệ đến 5 - rất tốt).\n",
    "- **absences**: vắng mặt - số lần nghỉ học (số: từ 0 đến 93).\n",
    "\n",
    "- **G1** : điểm thi kỳ 1.\n",
    "- **G2** : điểm thi kỳ 2.\n",
    "- **G3** : điểm thi kỳ 3 (kỳ cuối)."
   ]
  },
  {
   "cell_type": "markdown",
   "metadata": {},
   "source": [
    "## Tiền xử lý:"
   ]
  },
  {
   "cell_type": "markdown",
   "metadata": {},
   "source": [
    "- Kiểm tra dữ thông tin dữ liệu: kiểu dữ liệu của các thuộc tính, các cột có bị thiếu giá trị hay không?..."
   ]
  },
  {
   "cell_type": "code",
   "execution_count": 4,
   "metadata": {
    "scrolled": false
   },
   "outputs": [
    {
     "name": "stdout",
     "output_type": "stream",
     "text": [
      "<class 'pandas.core.frame.DataFrame'>\n",
      "RangeIndex: 395 entries, 0 to 394\n",
      "Data columns (total 33 columns):\n",
      " #   Column      Non-Null Count  Dtype \n",
      "---  ------      --------------  ----- \n",
      " 0   school      395 non-null    object\n",
      " 1   sex         395 non-null    object\n",
      " 2   age         395 non-null    int64 \n",
      " 3   address     395 non-null    object\n",
      " 4   famsize     395 non-null    object\n",
      " 5   Pstatus     395 non-null    object\n",
      " 6   Medu        395 non-null    int64 \n",
      " 7   Fedu        395 non-null    int64 \n",
      " 8   Mjob        395 non-null    object\n",
      " 9   Fjob        395 non-null    object\n",
      " 10  reason      395 non-null    object\n",
      " 11  guardian    395 non-null    object\n",
      " 12  traveltime  395 non-null    int64 \n",
      " 13  studytime   395 non-null    int64 \n",
      " 14  failures    395 non-null    int64 \n",
      " 15  schoolsup   395 non-null    object\n",
      " 16  famsup      395 non-null    object\n",
      " 17  paid        395 non-null    object\n",
      " 18  activities  395 non-null    object\n",
      " 19  nursery     395 non-null    object\n",
      " 20  higher      395 non-null    object\n",
      " 21  internet    395 non-null    object\n",
      " 22  romantic    395 non-null    object\n",
      " 23  famrel      395 non-null    int64 \n",
      " 24  freetime    395 non-null    int64 \n",
      " 25  goout       395 non-null    int64 \n",
      " 26  Dalc        395 non-null    int64 \n",
      " 27  Walc        395 non-null    int64 \n",
      " 28  health      395 non-null    int64 \n",
      " 29  absences    395 non-null    int64 \n",
      " 30  G1          395 non-null    int64 \n",
      " 31  G2          395 non-null    int64 \n",
      " 32  G3          395 non-null    int64 \n",
      "dtypes: int64(16), object(17)\n",
      "memory usage: 102.0+ KB\n",
      "=> Không có ô giá trị nào bị thiếu.\n"
     ]
    }
   ],
   "source": [
    "#xem thông tin data:\n",
    "df_s.info()\n",
    "\n",
    "if df_s.isnull().values.any() == False:\n",
    "    print(\"=> Không có ô giá trị nào bị thiếu.\")\n",
    "else:\n",
    "    print(\"Dữ liệu bị thiếu.\")"
   ]
  },
  {
   "cell_type": "markdown",
   "metadata": {},
   "source": [
    "- Xóa cột thuộc tính không dùng đến: school."
   ]
  },
  {
   "cell_type": "code",
   "execution_count": 5,
   "metadata": {},
   "outputs": [],
   "source": [
    "df_s.drop(['school'], 1, inplace=True)"
   ]
  },
  {
   "cell_type": "markdown",
   "metadata": {},
   "source": [
    "### Phân loại bảng điểm:"
   ]
  },
  {
   "cell_type": "markdown",
   "metadata": {},
   "source": [
    "Tạo hàm Grade để tính điểm trung bình của mỗi học sinh và từ đó xếp loại theo:\n",
    "- **A** : Khi điểm trung bình lớn hơn hoặc bằng 15.\n",
    "- **B** : Khi điểm trung bình lớn hơn hoặc bằng 10 và bé hơn 15.\n",
    "- **C** : Khi điểm trung bình dưới 10."
   ]
  },
  {
   "cell_type": "code",
   "execution_count": 6,
   "metadata": {
    "scrolled": true
   },
   "outputs": [
    {
     "data": {
      "text/html": [
       "<div>\n",
       "<style scoped>\n",
       "    .dataframe tbody tr th:only-of-type {\n",
       "        vertical-align: middle;\n",
       "    }\n",
       "\n",
       "    .dataframe tbody tr th {\n",
       "        vertical-align: top;\n",
       "    }\n",
       "\n",
       "    .dataframe thead th {\n",
       "        text-align: right;\n",
       "    }\n",
       "</style>\n",
       "<table border=\"1\" class=\"dataframe\">\n",
       "  <thead>\n",
       "    <tr style=\"text-align: right;\">\n",
       "      <th></th>\n",
       "      <th>sex</th>\n",
       "      <th>age</th>\n",
       "      <th>address</th>\n",
       "      <th>famsize</th>\n",
       "      <th>Pstatus</th>\n",
       "      <th>Medu</th>\n",
       "      <th>Fedu</th>\n",
       "      <th>Mjob</th>\n",
       "      <th>Fjob</th>\n",
       "      <th>reason</th>\n",
       "      <th>...</th>\n",
       "      <th>goout</th>\n",
       "      <th>Dalc</th>\n",
       "      <th>Walc</th>\n",
       "      <th>health</th>\n",
       "      <th>absences</th>\n",
       "      <th>G1</th>\n",
       "      <th>G2</th>\n",
       "      <th>G3</th>\n",
       "      <th>G_avg</th>\n",
       "      <th>Grade</th>\n",
       "    </tr>\n",
       "  </thead>\n",
       "  <tbody>\n",
       "    <tr>\n",
       "      <th>0</th>\n",
       "      <td>F</td>\n",
       "      <td>18</td>\n",
       "      <td>U</td>\n",
       "      <td>GT3</td>\n",
       "      <td>A</td>\n",
       "      <td>4</td>\n",
       "      <td>4</td>\n",
       "      <td>at_home</td>\n",
       "      <td>teacher</td>\n",
       "      <td>course</td>\n",
       "      <td>...</td>\n",
       "      <td>4</td>\n",
       "      <td>1</td>\n",
       "      <td>1</td>\n",
       "      <td>3</td>\n",
       "      <td>6</td>\n",
       "      <td>5</td>\n",
       "      <td>6</td>\n",
       "      <td>6</td>\n",
       "      <td>5.666667</td>\n",
       "      <td>C</td>\n",
       "    </tr>\n",
       "    <tr>\n",
       "      <th>1</th>\n",
       "      <td>F</td>\n",
       "      <td>17</td>\n",
       "      <td>U</td>\n",
       "      <td>GT3</td>\n",
       "      <td>T</td>\n",
       "      <td>1</td>\n",
       "      <td>1</td>\n",
       "      <td>at_home</td>\n",
       "      <td>other</td>\n",
       "      <td>course</td>\n",
       "      <td>...</td>\n",
       "      <td>3</td>\n",
       "      <td>1</td>\n",
       "      <td>1</td>\n",
       "      <td>3</td>\n",
       "      <td>4</td>\n",
       "      <td>5</td>\n",
       "      <td>5</td>\n",
       "      <td>6</td>\n",
       "      <td>5.333333</td>\n",
       "      <td>C</td>\n",
       "    </tr>\n",
       "    <tr>\n",
       "      <th>2</th>\n",
       "      <td>F</td>\n",
       "      <td>15</td>\n",
       "      <td>U</td>\n",
       "      <td>LE3</td>\n",
       "      <td>T</td>\n",
       "      <td>1</td>\n",
       "      <td>1</td>\n",
       "      <td>at_home</td>\n",
       "      <td>other</td>\n",
       "      <td>other</td>\n",
       "      <td>...</td>\n",
       "      <td>2</td>\n",
       "      <td>2</td>\n",
       "      <td>3</td>\n",
       "      <td>3</td>\n",
       "      <td>10</td>\n",
       "      <td>7</td>\n",
       "      <td>8</td>\n",
       "      <td>10</td>\n",
       "      <td>8.333333</td>\n",
       "      <td>C</td>\n",
       "    </tr>\n",
       "    <tr>\n",
       "      <th>3</th>\n",
       "      <td>F</td>\n",
       "      <td>15</td>\n",
       "      <td>U</td>\n",
       "      <td>GT3</td>\n",
       "      <td>T</td>\n",
       "      <td>4</td>\n",
       "      <td>2</td>\n",
       "      <td>health</td>\n",
       "      <td>services</td>\n",
       "      <td>home</td>\n",
       "      <td>...</td>\n",
       "      <td>2</td>\n",
       "      <td>1</td>\n",
       "      <td>1</td>\n",
       "      <td>5</td>\n",
       "      <td>2</td>\n",
       "      <td>15</td>\n",
       "      <td>14</td>\n",
       "      <td>15</td>\n",
       "      <td>14.666667</td>\n",
       "      <td>B</td>\n",
       "    </tr>\n",
       "    <tr>\n",
       "      <th>4</th>\n",
       "      <td>F</td>\n",
       "      <td>16</td>\n",
       "      <td>U</td>\n",
       "      <td>GT3</td>\n",
       "      <td>T</td>\n",
       "      <td>3</td>\n",
       "      <td>3</td>\n",
       "      <td>other</td>\n",
       "      <td>other</td>\n",
       "      <td>home</td>\n",
       "      <td>...</td>\n",
       "      <td>2</td>\n",
       "      <td>1</td>\n",
       "      <td>2</td>\n",
       "      <td>5</td>\n",
       "      <td>4</td>\n",
       "      <td>6</td>\n",
       "      <td>10</td>\n",
       "      <td>10</td>\n",
       "      <td>8.666667</td>\n",
       "      <td>C</td>\n",
       "    </tr>\n",
       "  </tbody>\n",
       "</table>\n",
       "<p>5 rows × 34 columns</p>\n",
       "</div>"
      ],
      "text/plain": [
       "  sex  age address famsize Pstatus  Medu  Fedu     Mjob      Fjob  reason  \\\n",
       "0   F   18       U     GT3       A     4     4  at_home   teacher  course   \n",
       "1   F   17       U     GT3       T     1     1  at_home     other  course   \n",
       "2   F   15       U     LE3       T     1     1  at_home     other   other   \n",
       "3   F   15       U     GT3       T     4     2   health  services    home   \n",
       "4   F   16       U     GT3       T     3     3    other     other    home   \n",
       "\n",
       "   ... goout  Dalc  Walc  health absences  G1  G2  G3      G_avg Grade  \n",
       "0  ...     4     1     1       3        6   5   6   6   5.666667     C  \n",
       "1  ...     3     1     1       3        4   5   5   6   5.333333     C  \n",
       "2  ...     2     2     3       3       10   7   8  10   8.333333     C  \n",
       "3  ...     2     1     1       5        2  15  14  15  14.666667     B  \n",
       "4  ...     2     1     2       5        4   6  10  10   8.666667     C  \n",
       "\n",
       "[5 rows x 34 columns]"
      ]
     },
     "execution_count": 6,
     "metadata": {},
     "output_type": "execute_result"
    }
   ],
   "source": [
    "def grade(data):\n",
    "    list_grade = []\n",
    "    grade_C = 10\n",
    "    grade_B = 15\n",
    "    #Thêm cột diểm trung bình vào data\n",
    "    data['G_avg'] = (data['G1'] + data['G2'] + data['G3'])/3\n",
    "    for r in data['G_avg']:\n",
    "        if r < grade_C:\n",
    "            list_grade.append('C')\n",
    "        elif r < grade_B:\n",
    "            list_grade.append('B')\n",
    "        else:\n",
    "            list_grade.append('A')\n",
    "    data['Grade'] = list_grade\n",
    "    return data\n",
    "df_s = grade(df_s)\n",
    "df_s.head()"
   ]
  },
  {
   "cell_type": "markdown",
   "metadata": {},
   "source": [
    "# III/ Đặt câu hỏi:\n",
    "- 1. Liệu trình độ học vấn của cha mẹ có quyết định đến thành tích học tập của con ở trường hay không?\n",
    "\n",
    "- 2. Yếu tố tác động tích cực và tiêu cực đến kết quả học tập?\n",
    "\n",
    "- 3. Có phải hầu hết học sinh đến từ thành thị? Vậy học sinh thành thị có học tốt hơn học sinh nông thôn hay không?\n",
    "\n",
    "- 4. Yêu đương làm ảnh hưởng đến kết quả học tập?\n",
    "\n",
    "- 5. Tình trạng uống rượu bia theo lứa tuổi của học sinh ở Bồ Đào Nha?\n"
   ]
  },
  {
   "cell_type": "markdown",
   "metadata": {},
   "source": [
    "# IV/ Tìm câu trả lời:"
   ]
  },
  {
   "cell_type": "markdown",
   "metadata": {},
   "source": [
    "---"
   ]
  },
  {
   "cell_type": "markdown",
   "metadata": {},
   "source": [
    "- **<font color=red> 1. Liệu trình độ học vấn của cha mẹ có quyết định đến thành tích học tập của con ở trường hay không? </font>**"
   ]
  },
  {
   "cell_type": "markdown",
   "metadata": {},
   "source": [
    "Để giải quyết câu hỏi này, ta cần quan tâm đến 3 cột thuộc tính **Medu**, **Fedu** và **Grade**. \n",
    "\n",
    "Tạo hàm <font color=blue> percent_family_edu </font>(data) với đầu vào là data đang xét, xuất một Series với Index là học vấn của cha mẹ và Values là phần trăm có con đạt điểm A."
   ]
  },
  {
   "cell_type": "code",
   "execution_count": 7,
   "metadata": {},
   "outputs": [],
   "source": [
    "def percent_family_edu(data):\n",
    "    #Thêm cột học vấn tổng của bố và mẹ\n",
    "    data['Fa_edu'] = data['Medu'] + data['Fedu']\n",
    "    fa_edu = data['Fa_edu'].value_counts()\n",
    "\n",
    "    #Lọc dataframe chỉ chứa học sinh đạt điểm A\n",
    "    df_temp = data[data['Grade'].str.contains('A')]\n",
    "    fa_edu_A = df_temp['Fa_edu'].value_counts()\n",
    "\n",
    "    #Tính %\n",
    "    df_result = fa_edu_A/fa_edu * 100\n",
    "    df_result = df_result.replace(np.nan, 0)\n",
    "    \n",
    "    return df_result"
   ]
  },
  {
   "cell_type": "markdown",
   "metadata": {},
   "source": [
    "\\- Trực quan kết quả bằng biểu đồ cột:"
   ]
  },
  {
   "cell_type": "code",
   "execution_count": 8,
   "metadata": {},
   "outputs": [
    {
     "data": {
      "text/plain": [
       "1     0.000000\n",
       "2     5.128205\n",
       "3     6.976744\n",
       "4    11.111111\n",
       "5    10.638298\n",
       "6    15.625000\n",
       "7    24.137931\n",
       "8    20.000000\n",
       "Name: Fa_edu, dtype: float64"
      ]
     },
     "execution_count": 8,
     "metadata": {},
     "output_type": "execute_result"
    },
    {
     "data": {
      "image/png": "[encoded data removed]",
      "text/plain": [
       "<Figure size 432x288 with 1 Axes>"
      ]
     },
     "metadata": {
      "needs_background": "light"
     },
     "output_type": "display_data"
    }
   ],
   "source": [
    "#df_1: Series đã xử lý\n",
    "df_1 =  percent_family_edu(df_s.copy())\n",
    "\n",
    "#Trực quan kết quả\n",
    "fig = plt.figure()\n",
    "ax = fig.add_subplot(111)\n",
    "ax.set_ylabel('% gia đình có con đạt A')\n",
    "ax.set_xlabel('Trình độ học vấn bố và mẹ', fontsize='medium')\n",
    "ax.bar(df_1.index, df_1.values, fill='black', color=\"#2ecc71\", edgecolor=['black'])\n",
    "\n",
    "df_1"
   ]
  },
  {
   "cell_type": "markdown",
   "metadata": {},
   "source": [
    "**Kết luận:** Dựa vào biểu đồ trên, ta thấy biểu đồ có xu hướng tăng dần qua các mốc học vấn của cha mẹ, có thể nói cha mẹ càng có học vấn cao thì con của họ càng giỏi. Kết quả này thu được có thể do gen di truyền từ bố mẹ và môi trường học tập mà con cái nhận được sự quan tâm, chỉ bảo từ gia đình. "
   ]
  },
  {
   "cell_type": "markdown",
   "metadata": {},
   "source": [
    "---"
   ]
  },
  {
   "cell_type": "markdown",
   "metadata": {},
   "source": [
    "- **<font color=red> 2. Yếu tố tác động tích cực và tiêu cực đến kết quả học tập? </font>**"
   ]
  },
  {
   "cell_type": "markdown",
   "metadata": {},
   "source": [
    "Sử dụng mô hình học máy (cụ thể là Linear Regression) rút ra những trọng số mà ta cần, dựa vào đó để đánh giá các tác động của thuộc tính đến kết quả bài kiểm tra cuối kỳ G3."
   ]
  },
  {
   "cell_type": "code",
   "execution_count": 9,
   "metadata": {},
   "outputs": [
    {
     "data": {
      "text/html": [
       "<div>\n",
       "<style scoped>\n",
       "    .dataframe tbody tr th:only-of-type {\n",
       "        vertical-align: middle;\n",
       "    }\n",
       "\n",
       "    .dataframe tbody tr th {\n",
       "        vertical-align: top;\n",
       "    }\n",
       "\n",
       "    .dataframe thead th {\n",
       "        text-align: right;\n",
       "    }\n",
       "</style>\n",
       "<table border=\"1\" class=\"dataframe\">\n",
       "  <thead>\n",
       "    <tr style=\"text-align: right;\">\n",
       "      <th></th>\n",
       "      <th>famrel</th>\n",
       "      <th>studytime</th>\n",
       "      <th>failures</th>\n",
       "      <th>absences</th>\n",
       "      <th>G1</th>\n",
       "      <th>G2</th>\n",
       "      <th>G3</th>\n",
       "    </tr>\n",
       "  </thead>\n",
       "  <tbody>\n",
       "    <tr>\n",
       "      <th>0</th>\n",
       "      <td>4</td>\n",
       "      <td>2</td>\n",
       "      <td>0</td>\n",
       "      <td>6</td>\n",
       "      <td>5</td>\n",
       "      <td>6</td>\n",
       "      <td>6</td>\n",
       "    </tr>\n",
       "    <tr>\n",
       "      <th>1</th>\n",
       "      <td>5</td>\n",
       "      <td>2</td>\n",
       "      <td>0</td>\n",
       "      <td>4</td>\n",
       "      <td>5</td>\n",
       "      <td>5</td>\n",
       "      <td>6</td>\n",
       "    </tr>\n",
       "    <tr>\n",
       "      <th>2</th>\n",
       "      <td>4</td>\n",
       "      <td>2</td>\n",
       "      <td>3</td>\n",
       "      <td>10</td>\n",
       "      <td>7</td>\n",
       "      <td>8</td>\n",
       "      <td>10</td>\n",
       "    </tr>\n",
       "    <tr>\n",
       "      <th>3</th>\n",
       "      <td>3</td>\n",
       "      <td>3</td>\n",
       "      <td>0</td>\n",
       "      <td>2</td>\n",
       "      <td>15</td>\n",
       "      <td>14</td>\n",
       "      <td>15</td>\n",
       "    </tr>\n",
       "    <tr>\n",
       "      <th>4</th>\n",
       "      <td>4</td>\n",
       "      <td>2</td>\n",
       "      <td>0</td>\n",
       "      <td>4</td>\n",
       "      <td>6</td>\n",
       "      <td>10</td>\n",
       "      <td>10</td>\n",
       "    </tr>\n",
       "  </tbody>\n",
       "</table>\n",
       "</div>"
      ],
      "text/plain": [
       "   famrel  studytime  failures  absences  G1  G2  G3\n",
       "0       4          2         0         6   5   6   6\n",
       "1       5          2         0         4   5   5   6\n",
       "2       4          2         3        10   7   8  10\n",
       "3       3          3         0         2  15  14  15\n",
       "4       4          2         0         4   6  10  10"
      ]
     },
     "execution_count": 9,
     "metadata": {},
     "output_type": "execute_result"
    }
   ],
   "source": [
    "df_2 = df_s.copy().select_dtypes('int64')\n",
    "\n",
    "df_2 = df_2[['famrel', 'studytime', 'failures', 'absences', 'G1', 'G2','G3']]\n",
    "# sklearn needs numpy array's as inputs\n",
    "X = np.array(df_2.drop('G3', axis=1))\n",
    "y = np.array(df_2['G3'])\n",
    "\n",
    "df_2.head()"
   ]
  },
  {
   "cell_type": "code",
   "execution_count": 10,
   "metadata": {},
   "outputs": [],
   "source": [
    "X_train, X_test, y_train, y_test = train_test_split(X, y, test_size=0.8, random_state=42)"
   ]
  },
  {
   "cell_type": "code",
   "execution_count": 11,
   "metadata": {},
   "outputs": [
    {
     "data": {
      "text/plain": [
       "LinearRegression(copy_X=True, fit_intercept=True, n_jobs=None, normalize=False)"
      ]
     },
     "execution_count": 11,
     "metadata": {},
     "output_type": "execute_result"
    }
   ],
   "source": [
    "linear = LinearRegression()\n",
    "linear.fit(X_train, y_train)"
   ]
  },
  {
   "cell_type": "code",
   "execution_count": 12,
   "metadata": {},
   "outputs": [
    {
     "name": "stdout",
     "output_type": "stream",
     "text": [
      "Hiệu quả:  0.8316968124174094\n",
      "famrel :  0.5675565229094426\n",
      "studytime :  -0.46968540367725004\n",
      "failures :  -0.5180844666140697\n",
      "absences :  0.029015504354730607\n",
      "G1 :  0.11790811767680966\n",
      "G2 :  0.954990328569435\n",
      "Độ dốc -2.3293128685712166\n"
     ]
    }
   ],
   "source": [
    "#Xuất thông tin về độ hiệu quả của thuật toán:\n",
    "print(\"Hiệu quả: \", linear.score(X_test, y_test))\n",
    "coeff = linear.coef_\n",
    "intercept = linear.intercept_\n",
    "\n",
    "for i in range(len(coeff)):\n",
    "    print(df_2.columns[i], ': ', coeff[i])\n",
    "print('Độ dốc', intercept)"
   ]
  },
  {
   "cell_type": "markdown",
   "metadata": {},
   "source": [
    "**Kết luận:** Ta đưa ra nhận xét dựa vào hững thuộc tính cho ra kết quả dương (tích cực) và âm (tiêu cực):\n",
    "\n",
    "Dễ thấy điểm thi ở đợt kiểm tra cuối (**G3**) chịu tác động tích cực từ mức độ hạnh phúc của gia đình (**famrel**), kết quả thi đợt 1 (**G1**) và kết quả thi đợt 2 (**G3**). Nghĩa là nếu những yếu tố này càng cao thì có thể kết quả thi **G3** càng tốt. Ví dụ 1 học sinh có thể cố gắng hơn nếu điểm **G1** và **G2** của học sinh đó chưa đạt được như nguyện vọng. \n",
    "\n",
    "Yếu tố tiêu cực **failures** (số lỗi vi phạm) là điều dễ hiểu vì chỉ số này ít khi xuất hiện ở 1 học sinh học lực tốt. Nhưng điều lạ ở đây là thuộc tính **studytime** (thời gian học tập) lại là tiêu cực... kết quả này đi ngược với suy nghĩ \"học càng nhiều thì càng tốt\", nó đúng hơn với câu \"học quá nhiều chưa hẳn là tốt\"."
   ]
  },
  {
   "cell_type": "markdown",
   "metadata": {},
   "source": [
    "---"
   ]
  },
  {
   "cell_type": "markdown",
   "metadata": {},
   "source": [
    "- **<font color=red> 3. Có phải hầu hết học sinh đến từ thành thị? Vậy học sinh thành thị có học tốt hơn học sinh nông thôn hay không? </font>**"
   ]
  },
  {
   "cell_type": "markdown",
   "metadata": {},
   "source": [
    "Để kiểm chứng, đầu tiên ta đưa ra dẫn chứng về số học sinh ở thành thị và số học sinh ở nông thôn:"
   ]
  },
  {
   "cell_type": "code",
   "execution_count": 13,
   "metadata": {
    "scrolled": true
   },
   "outputs": [
    {
     "data": {
      "image/png": "[encoded data removed]",
      "text/plain": [
       "<Figure size 432x288 with 1 Axes>"
      ]
     },
     "metadata": {
      "needs_background": "light"
     },
     "output_type": "display_data"
    }
   ],
   "source": [
    "c_3 = sns.countplot(df_s['address'])\n",
    "c_3.axes.set_title('Học sinh thành thị và nông thôn', fontsize = 24)\n",
    "c_3.set_xlabel('Address', fontsize = 20)\n",
    "c_3.set_ylabel('Count', fontsize = 20)\n",
    "plt.show()"
   ]
  },
  {
   "cell_type": "markdown",
   "metadata": {},
   "source": [
    "\\- Lấy ra cột điểm trung bình của các học sinh đến từ thành thị (df_u) và nông thôn (df_r)"
   ]
  },
  {
   "cell_type": "code",
   "execution_count": 14,
   "metadata": {},
   "outputs": [],
   "source": [
    "df_u = df_s.loc[df_s['address'] == 'U', 'G_avg']\n",
    "df_r = df_s.loc[df_s['address'] == 'R', 'G_avg']"
   ]
  },
  {
   "cell_type": "markdown",
   "metadata": {},
   "source": [
    "\\- Trực quan kết quả bằng biểu đồ:"
   ]
  },
  {
   "cell_type": "code",
   "execution_count": 15,
   "metadata": {
    "scrolled": true
   },
   "outputs": [
    {
     "data": {
      "image/png": "[encoded data removed]",
      "text/plain": [
       "<Figure size 432x288 with 1 Axes>"
      ]
     },
     "metadata": {
      "needs_background": "light"
     },
     "output_type": "display_data"
    }
   ],
   "source": [
    "sns.kdeplot(df_u, label='Urban', shade = True)\n",
    "sns.kdeplot(df_r, label='Rural', shade = True)\n",
    "plt.title('Điểm G3 học sinh thành thị - nông thôn', fontsize = 20)\n",
    "plt.xlabel('Grade', fontsize = 20);\n",
    "plt.ylabel('Density', fontsize = 20)\n",
    "plt.show()"
   ]
  },
  {
   "cell_type": "markdown",
   "metadata": {},
   "source": [
    "**Kết luận:** Nhìn vào biểu đồ, ta thấy học lực giữa thành thị và nông thôn có sự chênh lệch. Học sinh thành thị nhỉnh hơn từ mức điểm B trở lên ($>10$), thể hiện rõ ở mức điểm 15, và số điểm dưới 10 chiếm tỉ lệ thấp hơn (đường xanh nằm dưới đường cam). Điều kiện học tập ở mỗi nơi là khác nhau nên chênh lệch là khó tránh khỏi."
   ]
  },
  {
   "cell_type": "markdown",
   "metadata": {},
   "source": [
    "---"
   ]
  },
  {
   "cell_type": "markdown",
   "metadata": {},
   "source": [
    "- **<font color=red> 4.Yêu đương làm ảnh hưởng đến kết quả học tập? </font>**"
   ]
  },
  {
   "cell_type": "markdown",
   "metadata": {},
   "source": [
    "Để giải quyết câu hỏi này, ta cần quan tâm đến 3 cột thuộc tính **romantic** và **G3** -  kết quả học kỳ 3. "
   ]
  },
  {
   "cell_type": "code",
   "execution_count": 16,
   "metadata": {},
   "outputs": [
    {
     "data": {
      "image/png": "[encoded data removed]",
      "text/plain": [
       "<Figure size 432x288 with 1 Axes>"
      ]
     },
     "metadata": {},
     "output_type": "display_data"
    }
   ],
   "source": [
    "#Lấy series của cột romatic\n",
    "df_4 = df_s['romantic'].copy().value_counts()\n",
    "\n",
    "#Trực quan %\n",
    "plt.axis('equal');\n",
    "# colors = ['#008fd5', '#fc4f30']\n",
    "colors = ['#008fd5', '#fc6f30']\n",
    "plt.pie(df_4, startangle=90, colors=colors, wedgeprops={'edgecolor': 'black'}, \n",
    "        explode = (0, 0.1), autopct='%1.f%%',shadow=True);\n",
    "plt.legend(loc='best', labels=df_4.index, fontsize='medium')\n",
    "plt.show()"
   ]
  },
  {
   "cell_type": "markdown",
   "metadata": {},
   "source": [
    "\\- Tạm gọi nhóm các học sinh có quan hệ yêu đương là nhóm cam và nhóm các học sinh còn lại là nhóm xanh. Ta thấy có tới 1/3 số học sinh đang trong quan hệ yêu đương (nhóm màu cam)... Vậy cần so sánh mức điểm của nhóm này với các học sinh còn lại xem sao: "
   ]
  },
  {
   "cell_type": "code",
   "execution_count": 17,
   "metadata": {
    "scrolled": true
   },
   "outputs": [
    {
     "data": {
      "image/png": "[encoded data removed]",
      "text/plain": [
       "<Figure size 432x288 with 1 Axes>"
      ]
     },
     "metadata": {
      "needs_background": "light"
     },
     "output_type": "display_data"
    }
   ],
   "source": [
    "b = sns.swarmplot(x=df_s['romantic'],y=df_s['G3'])\n",
    "b.axes.set_title('Students with no romantic relationship score higher', fontsize = 22)\n",
    "b.set_xlabel('Romantic relationship', fontsize = 20)\n",
    "b.set_ylabel('Final Grade', fontsize = 20)\n",
    "plt.show()"
   ]
  },
  {
   "cell_type": "markdown",
   "metadata": {},
   "source": [
    "**Kết luận:** Qua biểu đồ trên, ta thấy số học sinh đạt điểm cao ở nhóm cam khá ít. So về tỉ lệ đối với nhóm xanh thì thực sự rất thấp. Đặc biệt số điểm 0 của nhóm cam lại nhiều hơn nhóm xanh, tình trạng này thực sự rất tệ không chỉ với riêng nhóm cam mà còn cả với nhóm xanh. \n",
    "\n",
    "Do đó, yêu đương có thể ảnh hưởng tiêu cực đến việc học.  "
   ]
  },
  {
   "cell_type": "markdown",
   "metadata": {},
   "source": [
    "Nhờ vào biểu đồ trên ta thấy có chút bất thường ở phân điểm 0, nó quá nhiều so với quy luật thông thường... Cần làm rõ vấn đề này bằng trực quan sau: "
   ]
  },
  {
   "cell_type": "markdown",
   "metadata": {},
   "source": [
    "---"
   ]
  },
  {
   "cell_type": "markdown",
   "metadata": {},
   "source": [
    "- **<font color=red> 5. Tình trạng uống rượu bia theo lứa tuổi của học sinh ở Bồ Đào Nha? </font>**"
   ]
  },
  {
   "cell_type": "markdown",
   "metadata": {},
   "source": [
    "Để giải quyết câu hỏi này, ta cần quan tâm đến 2 cột thuộc tính **Dalc** và **age**. \n",
    "\n",
    "\\- Đầu tiên ta rút ra số lượng của các nhãn rời rạc trong cột **Dalc** dưới dạng Series. "
   ]
  },
  {
   "cell_type": "code",
   "execution_count": 18,
   "metadata": {},
   "outputs": [
    {
     "name": "stdout",
     "output_type": "stream",
     "text": [
      "Thống kê số lượng của các nhãn rời rạc trong cột Dalc\n",
      "\n"
     ]
    },
    {
     "data": {
      "text/plain": [
       "1    276\n",
       "2     75\n",
       "3     26\n",
       "5      9\n",
       "4      9\n",
       "Name: Dalc, dtype: int64"
      ]
     },
     "execution_count": 18,
     "metadata": {},
     "output_type": "execute_result"
    }
   ],
   "source": [
    "#Lấy series của cột Dalc\n",
    "se_dalc = df_s['Dalc'].copy().value_counts()\n",
    "print(\"Thống kê số lượng của các nhãn rời rạc trong cột Dalc\\n\")\n",
    "se_dalc"
   ]
  },
  {
   "cell_type": "markdown",
   "metadata": {},
   "source": [
    "\\- Sau đó trực quan bằng Pie Chart như sau:"
   ]
  },
  {
   "cell_type": "code",
   "execution_count": 19,
   "metadata": {},
   "outputs": [
    {
     "data": {
      "image/png": "[encoded data removed]",
      "text/plain": [
       "<Figure size 432x288 with 1 Axes>"
      ]
     },
     "metadata": {},
     "output_type": "display_data"
    }
   ],
   "source": [
    "#Trực quan %\n",
    "plt.axis('equal')\n",
    "\n",
    "colors = [\"#9b59b6\", \"#3498db\", \"#95a5a6\", \"#e74c3c\", \"#34495e\"]\n",
    "plt.pie(se_dalc, startangle=90, colors=colors, wedgeprops={'edgecolor': 'black'}, \n",
    "        explode = (0, 0.1,0.1,0.1,0.1), autopct='%1.f%%',shadow=True);\n",
    "plt.legend(loc='best', labels=df_4.index, fontsize='medium')\n",
    "plt.show()"
   ]
  },
  {
   "cell_type": "markdown",
   "metadata": {},
   "source": [
    "\\- Qua số liệu của cột **Dalc** thì mức dộ sử dụng rượu/bia được đánh giá theo thang từ 1 - *rất ít*, đến 5 - *rất nhiều*. Do đó ta đặt mức lớn hơn 1 (**Dalc** $\\ge$ 2) làm mốc đánh giá là có sử dụng rượu/bia. Tạo bảng dữ liệu gồm 2 cột **age** và **Dalc** vừa lọc ra ở trên.\n"
   ]
  },
  {
   "cell_type": "code",
   "execution_count": 20,
   "metadata": {
    "scrolled": false
   },
   "outputs": [
    {
     "data": {
      "text/html": [
       "<div>\n",
       "<style scoped>\n",
       "    .dataframe tbody tr th:only-of-type {\n",
       "        vertical-align: middle;\n",
       "    }\n",
       "\n",
       "    .dataframe tbody tr th {\n",
       "        vertical-align: top;\n",
       "    }\n",
       "\n",
       "    .dataframe thead th {\n",
       "        text-align: right;\n",
       "    }\n",
       "</style>\n",
       "<table border=\"1\" class=\"dataframe\">\n",
       "  <thead>\n",
       "    <tr style=\"text-align: right;\">\n",
       "      <th></th>\n",
       "      <th>age</th>\n",
       "      <th>Dalc</th>\n",
       "    </tr>\n",
       "  </thead>\n",
       "  <tbody>\n",
       "    <tr>\n",
       "      <th>2</th>\n",
       "      <td>15</td>\n",
       "      <td>2</td>\n",
       "    </tr>\n",
       "    <tr>\n",
       "      <th>18</th>\n",
       "      <td>17</td>\n",
       "      <td>2</td>\n",
       "    </tr>\n",
       "    <tr>\n",
       "      <th>23</th>\n",
       "      <td>16</td>\n",
       "      <td>2</td>\n",
       "    </tr>\n",
       "    <tr>\n",
       "      <th>27</th>\n",
       "      <td>15</td>\n",
       "      <td>2</td>\n",
       "    </tr>\n",
       "    <tr>\n",
       "      <th>29</th>\n",
       "      <td>16</td>\n",
       "      <td>5</td>\n",
       "    </tr>\n",
       "  </tbody>\n",
       "</table>\n",
       "</div>"
      ],
      "text/plain": [
       "    age  Dalc\n",
       "2    15     2\n",
       "18   17     2\n",
       "23   16     2\n",
       "27   15     2\n",
       "29   16     5"
      ]
     },
     "execution_count": 20,
     "metadata": {},
     "output_type": "execute_result"
    }
   ],
   "source": [
    "df_5 = df_s[df_s['Dalc'] > 1]\n",
    "df_5 = df_5[['age','Dalc']]\n",
    "df_5.head()"
   ]
  },
  {
   "cell_type": "markdown",
   "metadata": {},
   "source": [
    "\\-  Tiếp đến, ta cần đưa ra số liệu thống kê về số học sinh sử dụng rượu/bia theo độ tuổi bằng cách xây dựng hàm <font color=blue> count_age_acl </font>. Với đầu vào là DataFrame đang xét (df_5) và Series của cột **age**. "
   ]
  },
  {
   "cell_type": "code",
   "execution_count": 21,
   "metadata": {},
   "outputs": [],
   "source": [
    "def count_age_acl(dataframe, series):\n",
    "    #Sắp xếp lại giá trị index của series theo chiều tăng của tuổi.\n",
    "    series.sort_index(inplace = True)\n",
    "    \n",
    "    #Danh sách các số đếm của từng độ tuổi.\n",
    "    acl_list = []\n",
    "    num = 0\n",
    "    for i in series.index:\n",
    "        num = len(dataframe[dataframe['age'] == i])\n",
    "        print(num)\n",
    "        acl_list.append(num)\n",
    "    \n",
    "    #Thay đổi values của của series theo act_list ở trên\n",
    "    series.replace(series.values, acl_list, inplace = True)\n",
    "    return series"
   ]
  },
  {
   "cell_type": "markdown",
   "metadata": {},
   "source": [
    "\\- Kết quả trả về một Series có Index là độ tuổi và Value là số học sinh sử dụng rượu/bia."
   ]
  },
  {
   "cell_type": "code",
   "execution_count": 22,
   "metadata": {},
   "outputs": [
    {
     "name": "stdout",
     "output_type": "stream",
     "text": [
      "20\n",
      "28\n",
      "33\n",
      "28\n",
      "7\n",
      "1\n",
      "1\n",
      "1\n"
     ]
    },
    {
     "data": {
      "text/plain": [
       "15    28\n",
       "16    28\n",
       "17    33\n",
       "18    28\n",
       "19     7\n",
       "20     1\n",
       "21     1\n",
       "22     1\n",
       "Name: age, dtype: int64"
      ]
     },
     "execution_count": 22,
     "metadata": {},
     "output_type": "execute_result"
    }
   ],
   "source": [
    "se_age = df_s.copy()['age'].value_counts()\n",
    "se_age = count_age_acl(df_5, se_age)\n",
    "se_age"
   ]
  },
  {
   "cell_type": "markdown",
   "metadata": {},
   "source": [
    "\\- Trực quan dưới dạng biểu đồ đường:"
   ]
  },
  {
   "cell_type": "code",
   "execution_count": 23,
   "metadata": {
    "scrolled": true
   },
   "outputs": [
    {
     "data": {
      "image/png": "[encoded data removed]",
      "text/plain": [
       "<Figure size 432x288 with 1 Axes>"
      ]
     },
     "metadata": {
      "needs_background": "light"
     },
     "output_type": "display_data"
    }
   ],
   "source": [
    "title = \"Số học sinh sử dụng rượu/bia theo độ tuổi\"\n",
    "se_age.plot(kind = 'line', marker='o', title = title, grid = True, legend = True, colormap = 'Reds_r')\n",
    "plt.ylabel('NumReplies');"
   ]
  },
  {
   "cell_type": "markdown",
   "metadata": {},
   "source": [
    "**Kết luận:** Nhìn vào biểu đồ, ta thấy mức độ sử dụng rượu bia ở các lứa tuổi khá chênh nhau. Lứa tuổi từ 15-18 sử dụng rượu bia rất nhiều, nhất là những học sinh 17 tuổi. Theo như mình tìm hiểu thì độ tuổi được phép uống rượu/bia ở Bồ Đào Nha là 16 đối với loại nhẹ và 18 đối với loại rượu nặng (tham khảo [ở đây](https://www.apyn.org/triangle-portugal#:~:text=There%20are%20now%20two%20legal,of%20alcoholic%20beverages%20(spirits).) \\), nên thống kê trên là đáng báo động vì ở độ tuổi 15, các bạn đã tiêu thụ rượu khá nhiều... Mức tiêu thụ này giảm dần từ lứa tuổi 19 trở đi, dù độ tuổi này việc sử dụng chất có cồn đã được hợp pháp hóa."
   ]
  },
  {
   "cell_type": "markdown",
   "metadata": {},
   "source": [
    "# V/ Nhìn lại quá trình làm đồ án:\n"
   ]
  },
  {
   "cell_type": "markdown",
   "metadata": {},
   "source": [
    "Qua quá trình làm đồ án, mình rút ra một số ý:\n",
    "\n",
    "> **Thuận lợi**:\n",
    "- Dữ liệu sạch và không cần tiền xử lý nhiều.\n",
    "- Kích thước dữ liệu nhỏ nên việc chạy code khá nhanh.\n",
    "- Dữ liệu đa dạng thuộc tính nên có nhiều lựa chọn cách triển khai.\n",
    "\n",
    "> **Khó khăn**:\n",
    "- Do dữ liệu có đến 33 cột thuộc tính nên chưa khai thác hết được.\n",
    "- Kích thước dữ liệu nhỏ nên chưa đảm bảo tính chính xác khi áp dụng học máy để dự đoán.\n",
    "\n",
    "Từ việc phân tích tập dữ liệu trên, mình có thể đánh giá các yếu tố ảnh hưởng đến kết quả học tập cảu một học sinh. Từ đó rút ra kinh nghiệm cho bản thân để tránh những yếu tố tiêu cực và phát huy những mặt tích cực, cải thiện thành tích. Giúp mình nhận thấy các tác động từ gia đình, xã hội cũng một phần quyết định đến kết quả học tập. \n",
    "\n",
    "Nếu có nhiều thời gian hơn, mình sẽ tận dụng triệt để các thuộc tính còn lại nhằm cũng cố những suy luận phía trên. "
   ]
  }
 ],
 "metadata": {
  "kernelspec": {
   "display_name": "Python 3",
   "language": "python",
   "name": "python3"
  },
  "language_info": {
   "codemirror_mode": {
    "name": "ipython",
    "version": 3
   },
   "file_extension": ".py",
   "mimetype": "text/x-python",
   "name": "python",
   "nbconvert_exporter": "python",
   "pygments_lexer": "ipython3",
   "version": "3.7.6"
  }
 },
 "nbformat": 4,
 "nbformat_minor": 4
}
